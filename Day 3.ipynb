{
 "cells": [
  {
   "cell_type": "code",
   "execution_count": 166,
   "metadata": {},
   "outputs": [
    {
     "data": {
      "text/plain": [
       "'Pto'"
      ]
     },
     "execution_count": 166,
     "metadata": {},
     "output_type": "execute_result"
    }
   ],
   "source": [
    "#alternate character in a string\n",
    "s1 = \"Python\"\n",
    "s1[::2]"
   ]
  },
  {
   "cell_type": "code",
   "execution_count": 167,
   "metadata": {},
   "outputs": [
    {
     "data": {
      "text/plain": [
       "'nhy'"
      ]
     },
     "execution_count": 167,
     "metadata": {},
     "output_type": "execute_result"
    }
   ],
   "source": [
    "s1[::-2]"
   ]
  },
  {
   "cell_type": "code",
   "execution_count": 168,
   "metadata": {},
   "outputs": [
    {
     "data": {
      "text/plain": [
       "'Ph'"
      ]
     },
     "execution_count": 168,
     "metadata": {},
     "output_type": "execute_result"
    }
   ],
   "source": [
    "s1[::3]"
   ]
  },
  {
   "cell_type": "code",
   "execution_count": 169,
   "metadata": {},
   "outputs": [
    {
     "data": {
      "text/plain": [
       "'nt'"
      ]
     },
     "execution_count": 169,
     "metadata": {},
     "output_type": "execute_result"
    }
   ],
   "source": [
    "s1[::-3]"
   ]
  },
  {
   "cell_type": "code",
   "execution_count": 170,
   "metadata": {},
   "outputs": [
    {
     "data": {
      "text/plain": [
       "'ihqe'"
      ]
     },
     "execution_count": 170,
     "metadata": {},
     "output_type": "execute_result"
    }
   ],
   "source": [
    "#s2 = \"Ali\"\n",
    "s3 = \"ishaque\"\n",
    "#s4 = s2 + s3\n",
    "s3[::2]"
   ]
  },
  {
   "cell_type": "code",
   "execution_count": 171,
   "metadata": {},
   "outputs": [
    {
     "data": {
      "text/plain": [
       "'nohtyp'"
      ]
     },
     "execution_count": 171,
     "metadata": {},
     "output_type": "execute_result"
    }
   ],
   "source": [
    "#reverse the string \n",
    "def reverseStr(s):\n",
    "    return s[-1::-1]\n",
    "reverseStr('python')"
   ]
  },
  {
   "cell_type": "code",
   "execution_count": 172,
   "metadata": {},
   "outputs": [
    {
     "name": "stdout",
     "output_type": "stream",
     "text": [
      "False\n",
      "True\n"
     ]
    }
   ],
   "source": [
    "#to check the given number is palindrom or not\n",
    "def isPalindrome(s):\n",
    "    if s == s[-1::-1]:\n",
    "         return True\n",
    "    return False\n",
    "print(isPalindrome('python'))\n",
    "print(isPalindrome('ganag'))\n"
   ]
  },
  {
   "cell_type": "code",
   "execution_count": 173,
   "metadata": {},
   "outputs": [
    {
     "name": "stdout",
     "output_type": "stream",
     "text": [
      "P T "
     ]
    }
   ],
   "source": [
    "#function to print Upper Case Character\n",
    "#ascii\n",
    "#A - Z  : 65 - 90\n",
    "#a - z  : 97 - 122\n",
    "#0 - 9  : 48 - 57\n",
    "#Space :32\n",
    "\n",
    "def printUpper(s):\n",
    "        for i in range(len(s)):\n",
    "            if ord(s[i]) >= 65 and ord(s[i]) <= 90:\n",
    "                print(s[i],end= ' ')\n",
    "        return \n",
    "printUpper('PyThon')\n"
   ]
  },
  {
   "cell_type": "code",
   "execution_count": 174,
   "metadata": {},
   "outputs": [
    {
     "data": {
      "text/plain": [
       "97"
      ]
     },
     "execution_count": 174,
     "metadata": {},
     "output_type": "execute_result"
    }
   ],
   "source": [
    "ord('a') #ord() function gives the output as numberehich is equ to ASCII Number"
   ]
  },
  {
   "cell_type": "code",
   "execution_count": 175,
   "metadata": {},
   "outputs": [
    {
     "name": "stdout",
     "output_type": "stream",
     "text": [
      "same count\n"
     ]
    }
   ],
   "source": [
    "#function to return the output as 'samecount' or 'programming'\n",
    "#print samecount: if the num ber of uppercase and lowercase is same\n",
    "#print programming :  if thenumber of upper =case and lower is not same\n",
    "\n",
    "def isSame(s):    \n",
    "    count1 = 0\n",
    "    count2 = 0\n",
    "    for i in range (len(s)):\n",
    "        if ord(s[i])>= 65 and ord (s[i]) <= 90 :\n",
    "            count1 = count1+1\n",
    "   #for j in range (len(s)):\n",
    "        elif ord(s[i]) >= 97 and ord(s[i]) <=122 :\n",
    "            count2 = count2+1\n",
    "    if(count1 == count2):\n",
    "        print('same count') \n",
    "    else:\n",
    "        print('progarmming')\n",
    "isSame('PyThOn')\n",
    "    "
   ]
  },
  {
   "cell_type": "code",
   "execution_count": 176,
   "metadata": {},
   "outputs": [
    {
     "name": "stdout",
     "output_type": "stream",
     "text": [
      "1 8 8 9 "
     ]
    }
   ],
   "source": [
    "def exeDigits(s):    \n",
    "   \n",
    "    for i in range (len(s)):\n",
    "         if ord(s[i]) >= 48 and ord(s[i]) <= 57:\n",
    "                print(s[i],end= ' ')\n",
    "    return \n",
    "exeDigits('apple18captious89')\n",
    "        "
   ]
  },
  {
   "cell_type": "code",
   "execution_count": 177,
   "metadata": {},
   "outputs": [
    {
     "data": {
      "text/plain": [
       "26"
      ]
     },
     "execution_count": 177,
     "metadata": {},
     "output_type": "execute_result"
    }
   ],
   "source": [
    "#function to add the degits \n",
    "def exeDigits(s):    \n",
    "    count=0\n",
    "    for i in range (len(s)):\n",
    "        if ord(s[i]) >= 48 and ord(s[i]) <= 57:\n",
    "            count =  count + (ord(s[i])-48)\n",
    "             # or we can use count =  count + int(s[i])\n",
    "    return count\n",
    "    #print('count')\n",
    "exeDigits('apple18captious89')"
   ]
  },
  {
   "cell_type": "code",
   "execution_count": 178,
   "metadata": {},
   "outputs": [],
   "source": [
    "#function to print 2nd specific word in upper caswe\n",
    "#Example #1:\n",
    "#input : Python Made easy\n",
    "#output : Made\n",
    "\n",
    "#example #2 :\n",
    "#input \n"
   ]
  },
  {
   "cell_type": "code",
   "execution_count": 179,
   "metadata": {},
   "outputs": [
    {
     "name": "stdout",
     "output_type": "stream",
     "text": [
      "STRING"
     ]
    }
   ],
   "source": [
    "def secondLetter(s):\n",
    "    cntSpace = 0\n",
    "    for i in range (len(s)):\n",
    "        if ord(s[i])==32:\n",
    "            cntSpace+=1\n",
    "        if(cntSpace==2):\n",
    "            if(ord(s[i])>=97 and ord(s[i])<=122):\n",
    "                print(chr(ord(s[i])-32),end=\"\")\n",
    "            if(ord(s[i])>=65 and ord(s[i])<=90):\n",
    "                print(s[i],end=\"\")\n",
    "secondLetter('Learn Python String')        "
   ]
  },
  {
   "cell_type": "markdown",
   "metadata": {},
   "source": [
    "#### list\n",
    "- Data structure in python\n",
    "- data means store ,sort and search operation\n",
    "- It's one common data structure in python ,the items of list separetedenclosed in sqaure brackests[].\n",
    "    - xample \n",
    "        - list1= [1,2,3,4,5]\n",
    "        - list2= [\"Gitam\",1,2,3,4.89,\"vizag\"]"
   ]
  },
  {
   "cell_type": "code",
   "execution_count": 180,
   "metadata": {},
   "outputs": [
    {
     "name": "stdout",
     "output_type": "stream",
     "text": [
      "[1, 2, 3, 4, 5]\n",
      "1\n",
      "5\n",
      "[3, 4, 5]\n"
     ]
    }
   ],
   "source": [
    "li=[1,2,3,4,5]\n",
    "print(li)\n",
    "print(li[0])\n",
    "print(li[-1])\n",
    "print(li[2:])\n"
   ]
  },
  {
   "cell_type": "code",
   "execution_count": 181,
   "metadata": {},
   "outputs": [
    {
     "name": "stdout",
     "output_type": "stream",
     "text": [
      "['gitam', 1528, 2008, 1098, 'vizag']\n",
      "['gitam', 1528, 2008, 1098, 'vizag']\n"
     ]
    }
   ],
   "source": [
    "li=['gitam', 1528,2008,1098,'vizag']\n",
    "print(li)\n",
    "print(li)\n"
   ]
  },
  {
   "cell_type": "code",
   "execution_count": 182,
   "metadata": {},
   "outputs": [
    {
     "name": "stdout",
     "output_type": "stream",
     "text": [
      "['gitam', 1528, 1098, 'vizag']\n"
     ]
    }
   ],
   "source": [
    "del(li[2])\n",
    "print(li)"
   ]
  },
  {
   "cell_type": "code",
   "execution_count": 183,
   "metadata": {},
   "outputs": [
    {
     "name": "stdout",
     "output_type": "stream",
     "text": [
      "25\n",
      "1\n",
      "56\n",
      "11\n"
     ]
    }
   ],
   "source": [
    "#basic list function\n",
    "li = [1,9,16,25,5]\n",
    "print(max(li))\n",
    "print(min(li))\n",
    "print(sum(li))\n",
    "print(sum(li)//len(li))"
   ]
  },
  {
   "cell_type": "code",
   "execution_count": 184,
   "metadata": {},
   "outputs": [
    {
     "name": "stdout",
     "output_type": "stream",
     "text": [
      "[1, 2, 3, 4, 5, 4, 29]\n",
      "[1, 2, 34, 3, 4, 5, 4, 29]\n"
     ]
    },
    {
     "data": {
      "text/plain": [
       "2"
      ]
     },
     "execution_count": 184,
     "metadata": {},
     "output_type": "execute_result"
    }
   ],
   "source": [
    "#methods of list\n",
    "li= [1,2,3,4,5,4]\n",
    "li.append(29)\n",
    "print(li)\n",
    "li.insert(2,34)\n",
    "print(li)\n",
    "li.count(4)\n",
    "#print(li.count())\n"
   ]
  },
  {
   "cell_type": "code",
   "execution_count": 185,
   "metadata": {},
   "outputs": [
    {
     "name": "stdout",
     "output_type": "stream",
     "text": [
      "[1, 2, 3, 4, 4, 5, 29, 34]\n"
     ]
    }
   ],
   "source": [
    "li.sort()\n",
    "print(li)"
   ]
  },
  {
   "cell_type": "code",
   "execution_count": 186,
   "metadata": {},
   "outputs": [
    {
     "name": "stdout",
     "output_type": "stream",
     "text": [
      "[1, 2, 3, 4, 4, 5, 29]\n"
     ]
    }
   ],
   "source": [
    "li.pop()\n",
    "print(li)"
   ]
  },
  {
   "cell_type": "code",
   "execution_count": 187,
   "metadata": {},
   "outputs": [
    {
     "name": "stdout",
     "output_type": "stream",
     "text": [
      "[1, 2, 3, 4, 4, 5, 29, 1, 2, 4, 3, 7]\n"
     ]
    }
   ],
   "source": [
    "li1 = [1,2,4,3,7]\n",
    "li.extend(li1)\n",
    "print(li)\n"
   ]
  },
  {
   "cell_type": "code",
   "execution_count": 188,
   "metadata": {},
   "outputs": [
    {
     "name": "stdout",
     "output_type": "stream",
     "text": [
      "45\n",
      "22\n"
     ]
    }
   ],
   "source": [
    "#function to return the  large number from the list\n",
    "def largeNumber(li):\n",
    "    li.sort()\n",
    "    return li[-1]\n",
    "def genericLarge(li,n):\n",
    "    li.sort()\n",
    "    return li[-n]\n",
    "li = [19,1,25,6,9,45,22]\n",
    "print(largeNumber(li))\n",
    "print(genericLarge(li,3))"
   ]
  },
  {
   "cell_type": "code",
   "execution_count": 189,
   "metadata": {},
   "outputs": [
    {
     "name": "stdout",
     "output_type": "stream",
     "text": [
      "1\n",
      "45\n"
     ]
    }
   ],
   "source": [
    "#function to find the least and generic least numberfrom the list\n",
    "def leastNumber(li):\n",
    "    li.sort()\n",
    "    return li[0]\n",
    "def genericLeastNumber(li,n):\n",
    "    li.sort()\n",
    "    return li[-1]\n",
    "li = [19,1,25,6,9,45,22]\n",
    "print(leastNumber(li))\n",
    "print(genericLeastNumber(li,4))"
   ]
  },
  {
   "cell_type": "markdown",
   "metadata": {},
   "source": [
    "### file handling in python\n",
    "- File - Document Which contains some information and resides on permanent\n",
    "- Different types of file -- .txt,.pdf,.doc,.ppf and etc\n",
    "- input-- Keyboard\n",
    "- output --file system"
   ]
  },
  {
   "cell_type": "code",
   "execution_count": 190,
   "metadata": {},
   "outputs": [
    {
     "name": "stdout",
     "output_type": "stream",
     "text": [
      "this is succesfully created and Data has inserted  \n"
     ]
    }
   ],
   "source": [
    "#Function to create file and write some data in file\n",
    "def createFile(filename):\n",
    "    f = open(filename,'w')\n",
    "    for i in range(10):\n",
    "        f.write('this is %d line \\n' % i)\n",
    "    print('this is succesfully created and Data has inserted  ')\n",
    "    return\n",
    "createFile('data.txt')"
   ]
  },
  {
   "cell_type": "code",
   "execution_count": 191,
   "metadata": {},
   "outputs": [
    {
     "data": {
      "text/plain": [
       "'C:\\\\Users\\\\cse319\\\\Desktop\\\\python learning'"
      ]
     },
     "execution_count": 191,
     "metadata": {},
     "output_type": "execute_result"
    }
   ],
   "source": [
    "pwd\n"
   ]
  },
  {
   "cell_type": "code",
   "execution_count": 192,
   "metadata": {},
   "outputs": [
    {
     "name": "stdout",
     "output_type": "stream",
     "text": [
      "program Complete Succesfully\n"
     ]
    }
   ],
   "source": [
    "#mode --  a (if the file isb not available it creates the file)\n",
    "#     -- if the file is already avbailable present with same name \n",
    "#     -- append the data at the end of the previously line\n",
    "def appendMode(filename):\n",
    "    f = open(filename, 'a')\n",
    "    f.write('gitam vizag\\n')\n",
    "    f.write('python Programming\\n')\n",
    "    print('program Complete Succesfully')\n",
    "    return\n",
    "appendMode('data.txt')"
   ]
  },
  {
   "cell_type": "code",
   "execution_count": 13,
   "metadata": {},
   "outputs": [
    {
     "name": "stdout",
     "output_type": "stream",
     "text": [
      "success\n"
     ]
    }
   ],
   "source": [
    "def overwrite(filename):\n",
    "    f = open(filename,'w')\n",
    "    f.write(\"hello everyone \\n\")\n",
    "    f.write(\"updated Gitam university\")\n",
    "    print(\"success\")\n",
    "overwrite(\"data.txt\")"
   ]
  },
  {
   "cell_type": "code",
   "execution_count": 194,
   "metadata": {},
   "outputs": [
    {
     "name": "stdout",
     "output_type": "stream",
     "text": [
      "hello everyone \n",
      "updated\n"
     ]
    }
   ],
   "source": [
    "# functon to read the file\n",
    "def readFileData(filename):\n",
    "    f = open(filename, 'r')\n",
    "    if f.mode == 'r':\n",
    "        a = f.read()\n",
    "        print(a)\n",
    "    f.close()\n",
    "    return\n",
    "readFileData('data.txt')"
   ]
  },
  {
   "cell_type": "code",
   "execution_count": 195,
   "metadata": {},
   "outputs": [
    {
     "ename": "SyntaxError",
     "evalue": "invalid syntax (<ipython-input-195-c40041e22869>, line 1)",
     "output_type": "error",
     "traceback": [
      "\u001b[1;36m  File \u001b[1;32m\"<ipython-input-195-c40041e22869>\"\u001b[1;36m, line \u001b[1;32m1\u001b[0m\n\u001b[1;33m    Analysis on the file -- word count, Char count, Digit\u001b[0m\n\u001b[1;37m              ^\u001b[0m\n\u001b[1;31mSyntaxError\u001b[0m\u001b[1;31m:\u001b[0m invalid syntax\n"
     ]
    }
   ],
   "source": [
    "Analysis on the file -- word count, Char count, Digit"
   ]
  },
  {
   "cell_type": "code",
   "execution_count": null,
   "metadata": {},
   "outputs": [],
   "source": [
    "s1 = \"py th on pro gramming \"\n",
    "print(s1.splits())"
   ]
  },
  {
   "cell_type": "code",
   "execution_count": null,
   "metadata": {},
   "outputs": [],
   "source": [
    "#word count\n",
    "def wordCount(filename): \n",
    "    with open(filename, 'r') as f:\n",
    "        if f.mode == 'r':\n",
    "            a = f.read()\n",
    "            li = a.split()\n",
    "        return len(li)\n",
    "wordCount('data.txt')"
   ]
  },
  {
   "cell_type": "code",
   "execution_count": null,
   "metadata": {},
   "outputs": [],
   "source": [
    "# findind the how many times specific word arise \n",
    "def specificCount(Filename,word):\n",
    "    with open(Filename, 'r')as f:\n",
    "        if f.mode == 'r':\n",
    "            a = f.read()\n",
    "            li = a.split()\n",
    "    return li.count(word)\n",
    "specificCount('data.txt','hello')            "
   ]
  },
  {
   "cell_type": "code",
   "execution_count": 7,
   "metadata": {},
   "outputs": [
    {
     "data": {
      "text/plain": [
       "23"
      ]
     },
     "execution_count": 7,
     "metadata": {},
     "output_type": "execute_result"
    }
   ],
   "source": [
    "#function to find the character count from inout file\n",
    "def charCount(filename):\n",
    "    with open(filename,'r') as f:\n",
    "        if f.mode == 'r':\n",
    "            a = f.read()\n",
    "            li = list(a)\n",
    "    return len(li)\n",
    "charCount('data.txt')\n",
    "    "
   ]
  },
  {
   "cell_type": "code",
   "execution_count": 2,
   "metadata": {},
   "outputs": [
    {
     "name": "stdout",
     "output_type": "stream",
     "text": [
      "['P', 'y', 't', 'h', 'o', 'n', ' ', 'P', 'r', 'o', 'g', 'r', 'a', 'm', 'm', 'i', 'n', 'g']\n"
     ]
    }
   ],
   "source": [
    "s = \"Python Programming\"\n",
    "li = list(s)\n",
    "print(li)\n"
   ]
  },
  {
   "cell_type": "code",
   "execution_count": 12,
   "metadata": {},
   "outputs": [
    {
     "data": {
      "text/plain": [
       "2"
      ]
     },
     "execution_count": 12,
     "metadata": {},
     "output_type": "execute_result"
    }
   ],
   "source": [
    "#find no of lines or rows in the given input \n",
    "def findLineCount(filename):\n",
    "    with open(filename,'r') as f:\n",
    "        if f.mode == 'r':\n",
    "            a = f.read()\n",
    "            li = a.split('\\n')\n",
    "        return len(li)\n",
    "findLineCount('data.txt')\n",
    "        \n",
    "        "
   ]
  },
  {
   "cell_type": "code",
   "execution_count": 26,
   "metadata": {},
   "outputs": [
    {
     "data": {
      "text/plain": [
       "'upper Case : 1lower case : 34 digit count : 0'"
      ]
     },
     "execution_count": 26,
     "metadata": {},
     "output_type": "execute_result"
    }
   ],
   "source": [
    "# Dunction to find the upper and lower case character \n",
    "# from the input stream\n",
    "def caseCount(filename):\n",
    "        uppCnt = 0\n",
    "        lowCnt = 0\n",
    "        digtCnt = 0\n",
    "        with open(filename,'r')as f:\n",
    "            if f.mode == 'r':\n",
    "                a = f.read()\n",
    "                li = list(a)\n",
    "        for i in range(len(li)):\n",
    "            if ord(li[i]) >= 65 and ord (li[i])<=90:\n",
    "                uppCnt +=1\n",
    "            elif ord(li[i]) >=65 and ord(li[i])<= 122:\n",
    "                lowCnt +=1\n",
    "            elif ord(li[i]) >=48 and ord(li[i])<= 57:\n",
    "                digtCnt +=1\n",
    "        output = 'upper Case : {0}lower case : {1} digit count : {2}'.format(uppCnt,lowCnt,digtCnt)\n",
    "        return output\n",
    "caseCount('data.txt')\n",
    "        "
   ]
  },
  {
   "cell_type": "code",
   "execution_count": null,
   "metadata": {},
   "outputs": [],
   "source": []
  },
  {
   "cell_type": "code",
   "execution_count": null,
   "metadata": {},
   "outputs": [],
   "source": []
  },
  {
   "cell_type": "code",
   "execution_count": null,
   "metadata": {},
   "outputs": [],
   "source": []
  }
 ],
 "metadata": {
  "kernelspec": {
   "display_name": "Python 3",
   "language": "python",
   "name": "python3"
  },
  "language_info": {
   "codemirror_mode": {
    "name": "ipython",
    "version": 3
   },
   "file_extension": ".py",
   "mimetype": "text/x-python",
   "name": "python",
   "nbconvert_exporter": "python",
   "pygments_lexer": "ipython3",
   "version": "3.7.3"
  }
 },
 "nbformat": 4,
 "nbformat_minor": 2
}
