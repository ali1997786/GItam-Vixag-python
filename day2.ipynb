{
 "cells": [
  {
   "cell_type": "code",
   "execution_count": 6,
   "metadata": {},
   "outputs": [
    {
     "name": "stdout",
     "output_type": "stream",
     "text": [
      " 2014\n",
      "not a leap year\n"
     ]
    }
   ],
   "source": [
    "year = int (input(\" \"))\n",
    "if year % 400 == 0 or (year % 100!=0 and year % 4 ==0):\n",
    "    print(\"leap year\")\n",
    "else:\n",
    "    print (\"not a leap year\")"
   ]
  },
  {
   "cell_type": "markdown",
   "metadata": {},
   "source": [
    "# while Loop"
   ]
  },
  {
   "cell_type": "code",
   "execution_count": 8,
   "metadata": {},
   "outputs": [
    {
     "name": "stdout",
     "output_type": "stream",
     "text": [
      "enter a number: 10\n",
      "1 2 3 4 5 6 7 8 9 10 "
     ]
    }
   ],
   "source": [
    "n = int(input('enter a number: '))\n",
    "i=1\n",
    "while i <= n:\n",
    "    print(i,end= \" \")\n",
    "    i = i + 1"
   ]
  },
  {
   "cell_type": "code",
   "execution_count": 13,
   "metadata": {},
   "outputs": [
    {
     "name": "stdout",
     "output_type": "stream",
     "text": [
      "enter a number30\n",
      "240\n"
     ]
    }
   ],
   "source": [
    "n = int(input('enter a number'))\n",
    "sum=0\n",
    "i=1\n",
    "while i <=n:\n",
    "    if i%2 == 0:\n",
    "      sum = sum + i\n",
    "    i = i+1\n",
    "print(sum)\n",
    "    "
   ]
  },
  {
   "cell_type": "code",
   "execution_count": 18,
   "metadata": {},
   "outputs": [
    {
     "name": "stdout",
     "output_type": "stream",
     "text": [
      "enter a number123\n",
      "reverse of given number is:  321\n"
     ]
    }
   ],
   "source": [
    "n = int(input('enter a number'))\n",
    "rev =0\n",
    "while n!=0:\n",
    "    #print(n%10, end='')\n",
    "    rem=n%10\n",
    "    rev = rev * 10 + rem\n",
    "    n = n//10\n",
    "print(\"reverse of given number is: \", rev)"
   ]
  },
  {
   "cell_type": "markdown",
   "metadata": {},
   "source": [
    "# function\n",
    " - def name of the function(<parameter>)\n",
    "        -return"
   ]
  },
  {
   "cell_type": "code",
   "execution_count": 11,
   "metadata": {},
   "outputs": [
    {
     "name": "stdout",
     "output_type": "stream",
     "text": [
      "enter a number12\n"
     ]
    },
    {
     "data": {
      "text/plain": [
       "2"
      ]
     },
     "execution_count": 11,
     "metadata": {},
     "output_type": "execute_result"
    }
   ],
   "source": [
    "def evenDigitSum(n):\n",
    "    s=0\n",
    "    while n !=0:\n",
    "        r = n%10\n",
    "        if r% 2 == 0:\n",
    "            s=s+r\n",
    "        n = n//10\n",
    "        return  s\n",
    "n=int(input('enter a number'))\n",
    "evenDigitSum(n)"
   ]
  },
  {
   "cell_type": "code",
   "execution_count": 9,
   "metadata": {},
   "outputs": [
    {
     "ename": "SyntaxError",
     "evalue": "invalid syntax (<ipython-input-9-40b5f9b782f4>, line 1)",
     "output_type": "error",
     "traceback": [
      "\u001b[1;36m  File \u001b[1;32m\"<ipython-input-9-40b5f9b782f4>\"\u001b[1;36m, line \u001b[1;32m1\u001b[0m\n\u001b[1;33m    def largeDigit(n)\u001b[0m\n\u001b[1;37m                     ^\u001b[0m\n\u001b[1;31mSyntaxError\u001b[0m\u001b[1;31m:\u001b[0m invalid syntax\n"
     ]
    }
   ],
   "source": [
    "def largeDigit(n):\n",
    "    max=0\n",
    "    while n!=0:\n",
    "        r=n%10\n",
    "        if r%2!=0:\n",
    "            s=s+"
   ]
  },
  {
   "cell_type": "code",
   "execution_count": 20,
   "metadata": {},
   "outputs": [
    {
     "data": {
      "text/plain": [
       "360"
      ]
     },
     "execution_count": 20,
     "metadata": {},
     "output_type": "execute_result"
    }
   ],
   "source": [
    "def factSum(n):\n",
    "    fact = 1\n",
    "    i = 1\n",
    "    sum1 = 0\n",
    "    while n!=0:\n",
    "        #print(n%10, end='')\n",
    "        r=int(n%10)\n",
    "        while i<=r:\n",
    "            fact = fact * i\n",
    "            i = i + 1\n",
    "        sum1 = sum1 + fact\n",
    "\n",
    "        n = n//10\n",
    "    return sum1\n",
    "\n",
    "factSum(145)\n",
    "\n",
    "    \n"
   ]
  },
  {
   "cell_type": "code",
   "execution_count": 33,
   "metadata": {},
   "outputs": [
    {
     "name": "stdout",
     "output_type": "stream",
     "text": [
      "9\n",
      "no\n"
     ]
    }
   ],
   "source": [
    "def factorial(n):\n",
    "    fact = 1\n",
    "    i=1\n",
    "    while i<=n:\n",
    "        fact = fact * i\n",
    "        i = i + 1\n",
    "    return fact\n",
    "def digitFactSum(n):\n",
    "    buffer = n\n",
    "    sum1=0\n",
    "   \n",
    "    while n!=0:\n",
    "        r=n%10\n",
    "        sum1=sum1+factorial(r)\n",
    "        n=n//10\n",
    "    print(sum1)\n",
    "    if(sum1==buffer):\n",
    "        print(\"yes\")\n",
    "    else:\n",
    "        print(\"no\")\n",
    "        \n",
    "digitFactSum(123)\n",
    "    \n",
    "     \n",
    "            "
   ]
  },
  {
   "cell_type": "code",
   "execution_count": 29,
   "metadata": {},
   "outputs": [
    {
     "name": "stdout",
     "output_type": "stream",
     "text": [
      "1 2 3 4 5 6 7 8 9 10 11 12 13 14 15 16 17 18 19 20 21 22 23 24 25 "
     ]
    }
   ],
   "source": [
    "def printSeries(lb,ub):\n",
    "    for x in range(lb,ub+1):\n",
    "        print(x,end = ' ')\n",
    "    return \n",
    "printSeries(1,25)"
   ]
  },
  {
   "cell_type": "code",
   "execution_count": 34,
   "metadata": {},
   "outputs": [
    {
     "name": "stdout",
     "output_type": "stream",
     "text": [
      "500 504 508 512 516 520 "
     ]
    }
   ],
   "source": [
    "def printSeries(lb,ub):\n",
    "    for x in range(lb,ub+1,4):\n",
    "        print(x,end = ' ')\n",
    "    return \n",
    "printSeries(500,520)"
   ]
  },
  {
   "cell_type": "code",
   "execution_count": null,
   "metadata": {},
   "outputs": [],
   "source": []
  }
 ],
 "metadata": {
  "kernelspec": {
   "display_name": "Python 3",
   "language": "python",
   "name": "python3"
  },
  "language_info": {
   "codemirror_mode": {
    "name": "ipython",
    "version": 3
   },
   "file_extension": ".py",
   "mimetype": "text/x-python",
   "name": "python",
   "nbconvert_exporter": "python",
   "pygments_lexer": "ipython3",
   "version": "3.7.3"
  }
 },
 "nbformat": 4,
 "nbformat_minor": 2
}
